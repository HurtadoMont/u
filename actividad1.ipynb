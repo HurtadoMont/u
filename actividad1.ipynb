{
  "nbformat": 4,
  "nbformat_minor": 0,
  "metadata": {
    "colab": {
      "provenance": [],
      "authorship_tag": "ABX9TyOdur+jNpQIcmyr4LtF24G/",
      "include_colab_link": true
    },
    "kernelspec": {
      "name": "python3",
      "display_name": "Python 3"
    },
    "language_info": {
      "name": "python"
    }
  },
  "cells": [
    {
      "cell_type": "markdown",
      "metadata": {
        "id": "view-in-github",
        "colab_type": "text"
      },
      "source": [
        "<a href=\"https://colab.research.google.com/github/HurtadoMont/u/blob/main/actividad1.ipynb\" target=\"_parent\"><img src=\"https://colab.research.google.com/assets/colab-badge.svg\" alt=\"Open In Colab\"/></a>"
      ]
    },
    {
      "cell_type": "code",
      "source": [
        "suma = 0\n",
        "x = 20\n",
        "suma = suma+x\n",
        "y = 40\n",
        "x= x+y**2\n",
        "suma =suma+(x/y)\n",
        "print(suma)"
      ],
      "metadata": {
        "colab": {
          "base_uri": "https://localhost:8080/"
        },
        "id": "5Z8LPhSHofrV",
        "outputId": "ff2a13df-e816-4cc5-cc03-440d3a1816c8"
      },
      "execution_count": 21,
      "outputs": [
        {
          "output_type": "stream",
          "name": "stdout",
          "text": [
            "60.5\n"
          ]
        }
      ]
    },
    {
      "cell_type": "code",
      "execution_count": 5,
      "metadata": {
        "colab": {
          "base_uri": "https://localhost:8080/"
        },
        "id": "G3B4ykG1hUhS",
        "outputId": "2a14e1b5-1ddf-4f42-b8be-1fb8f4e56a80"
      },
      "outputs": [
        {
          "output_type": "stream",
          "name": "stdout",
          "text": [
            "Cuantos años tiene Juan?  12\n",
            "Entonces, juan tiene  12 Alberto tiene  8 Ana tiene  16 y la madre tiene  36\n"
          ]
        }
      ],
      "source": [
        "juan = int(input(\"Cuantos años tiene Juan?  \"))\n",
        "alberto = int(juan*2/3)\n",
        "ana = int(juan*4/3)\n",
        "madre = int(ana+juan+alberto)\n",
        "print(\"Entonces, Juan tiene\", juan, \"Alberto tiene\", alberto, \"Ana tiene\", ana, \"y la madre tiene\", madre)"
      ]
    },
    {
      "cell_type": "code",
      "source": [
        "numero = int(input(\"ingrese el numero del que quiera el cuadrado y el cubo\"))\n",
        "\n",
        "print(\"EL cuadrado del numero es: \", numero**2, \"y el cubo del numero es: \", numero**3)"
      ],
      "metadata": {
        "colab": {
          "base_uri": "https://localhost:8080/"
        },
        "id": "7V511kFZjtxl",
        "outputId": "89bab4df-adcc-41da-e472-486d8c7315dc"
      },
      "execution_count": 7,
      "outputs": [
        {
          "output_type": "stream",
          "name": "stdout",
          "text": [
            "ingrese el numero del que quiera el cuadrado y el cubo2\n",
            "EL cuadrado del numero es:  4 y el cubo del numero es:  8\n"
          ]
        }
      ]
    },
    {
      "cell_type": "code",
      "source": [
        "import math\n",
        "radio = (float(input(\"ingresa el radio del circulo \")))\n",
        "area = math.pi*(radio**2)\n",
        "longitud = 2*math.pi*radio\n",
        "print(f\"Entonces, el area del circulo es: {area:.2f} y la longitud de la circunferencia es igual a: {longitud:.2f}\")"
      ],
      "metadata": {
        "colab": {
          "base_uri": "https://localhost:8080/"
        },
        "id": "Ah7M829DkTb6",
        "outputId": "88b96f4b-f672-4855-f2a9-3fb8824a609c"
      },
      "execution_count": 17,
      "outputs": [
        {
          "output_type": "stream",
          "name": "stdout",
          "text": [
            "ingresa el radio del circulo 5\n",
            "Entonces, el area del circulo es: 78.54 y la longitud de la circunferencia es igual a: 31.42\n"
          ]
        }
      ]
    },
    {
      "cell_type": "code",
      "source": [
        "horas= 48\n",
        "bruto = horas*5000\n",
        "retencion = bruto*0.125\n",
        "salario = bruto-retencion\n",
        "\n",
        "print(f\"El salario semanal del empleado es de {bruto}, pero tiene una retencion de un 12.5%, que equivale a {retencion}, osea que el salario semanal es de {salario} \")"
      ],
      "metadata": {
        "colab": {
          "base_uri": "https://localhost:8080/"
        },
        "id": "RlI4X4SGm_z8",
        "outputId": "bd68ac6a-c5ab-453b-f0e5-ced2413a49a4"
      },
      "execution_count": 20,
      "outputs": [
        {
          "output_type": "stream",
          "name": "stdout",
          "text": [
            "El salario semanal del empleado es de 240000, pero tiene una retencion de un 12.5%, que equivale a 30000.0, osea que el salario semanal es de 210000.0 \n"
          ]
        }
      ]
    },
    {
      "cell_type": "code",
      "source": [],
      "metadata": {
        "id": "hyEfRqwNoSi4"
      },
      "execution_count": null,
      "outputs": []
    }
  ]
}